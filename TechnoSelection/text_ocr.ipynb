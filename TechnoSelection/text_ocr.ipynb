{
 "cells": [
  {
   "cell_type": "code",
   "execution_count": 2,
   "id": "3e3f4c87",
   "metadata": {},
   "outputs": [],
   "source": [
    "import onnx"
   ]
  },
  {
   "cell_type": "code",
   "execution_count": 12,
   "id": "bdcc7f4b",
   "metadata": {},
   "outputs": [
    {
     "name": "stdout",
     "output_type": "stream",
     "text": [
      "905015\n"
     ]
    }
   ],
   "source": [
    "model_path = \"./models/dbnet.onnx\"\n",
    "# model_path = \"./models/crnn_lite_lstm.onnx\"\n",
    "# model_path = \"./models/angle_net.onnx\"\n",
    "model = onnx.load(model_path)\n",
    "total_params = 0\n",
    "for initializer in model.graph.initializer:\n",
    "    param_size = 1\n",
    "    for dim in initializer.dims:\n",
    "        param_size *= dim\n",
    "    total_params += param_size\n",
    "\n",
    "print(total_params)"
   ]
  },
  {
   "cell_type": "code",
   "execution_count": null,
   "id": "c673271e",
   "metadata": {},
   "outputs": [],
   "source": []
  }
 ],
 "metadata": {
  "kernelspec": {
   "display_name": "ocr",
   "language": "python",
   "name": "python3"
  },
  "language_info": {
   "codemirror_mode": {
    "name": "ipython",
    "version": 3
   },
   "file_extension": ".py",
   "mimetype": "text/x-python",
   "name": "python",
   "nbconvert_exporter": "python",
   "pygments_lexer": "ipython3",
   "version": "3.11.6"
  }
 },
 "nbformat": 4,
 "nbformat_minor": 5
}
