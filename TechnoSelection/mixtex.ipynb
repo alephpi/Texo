{
 "cells": [
  {
   "cell_type": "code",
   "execution_count": 1,
   "id": "18bcfe56",
   "metadata": {},
   "outputs": [
    {
     "name": "stderr",
     "output_type": "stream",
     "text": [
      "Using a slow image processor as `use_fast` is unset and a slow processor was saved with this model. `use_fast=True` will be the default behavior in v4.52, even if the model was saved with a slow processor. This will result in minor differences in outputs. You'll still be able to use a slow processor with `use_fast=False`.\n"
     ]
    }
   ],
   "source": [
    "from transformers import AutoTokenizer, VisionEncoderDecoderModel, AutoImageProcessor\n",
    "from PIL import Image\n",
    "import requests\n",
    "\n",
    "repo_name = \"MixTex/Base_ZhEn\"\n",
    "feature_extractor = AutoImageProcessor.from_pretrained(repo_name)\n",
    "tokenizer = AutoTokenizer.from_pretrained(repo_name, max_len=296)\n",
    "model = VisionEncoderDecoderModel.from_pretrained(repo_name)"
   ]
  },
  {
   "cell_type": "code",
   "execution_count": 3,
   "id": "55197f97",
   "metadata": {},
   "outputs": [
    {
     "data": {
      "text/plain": [
       "GPT2LMHeadModel(\n",
       "  (transformer): GPT2Model(\n",
       "    (wte): Embedding(30002, 768)\n",
       "    (wpe): Embedding(516, 768)\n",
       "    (drop): Dropout(p=0.1, inplace=False)\n",
       "    (h): ModuleList(\n",
       "      (0-5): 6 x GPT2Block(\n",
       "        (ln_1): LayerNorm((768,), eps=1e-05, elementwise_affine=True)\n",
       "        (attn): GPT2Attention(\n",
       "          (c_attn): Conv1D(nf=2304, nx=768)\n",
       "          (c_proj): Conv1D(nf=768, nx=768)\n",
       "          (attn_dropout): Dropout(p=0.1, inplace=False)\n",
       "          (resid_dropout): Dropout(p=0.1, inplace=False)\n",
       "        )\n",
       "        (ln_2): LayerNorm((768,), eps=1e-05, elementwise_affine=True)\n",
       "        (crossattention): GPT2Attention(\n",
       "          (c_attn): Conv1D(nf=1536, nx=768)\n",
       "          (q_attn): Conv1D(nf=768, nx=768)\n",
       "          (c_proj): Conv1D(nf=768, nx=768)\n",
       "          (attn_dropout): Dropout(p=0.1, inplace=False)\n",
       "          (resid_dropout): Dropout(p=0.1, inplace=False)\n",
       "        )\n",
       "        (ln_cross_attn): LayerNorm((768,), eps=1e-05, elementwise_affine=True)\n",
       "        (mlp): GPT2MLP(\n",
       "          (c_fc): Conv1D(nf=3072, nx=768)\n",
       "          (c_proj): Conv1D(nf=768, nx=3072)\n",
       "          (act): NewGELUActivation()\n",
       "          (dropout): Dropout(p=0.1, inplace=False)\n",
       "        )\n",
       "      )\n",
       "    )\n",
       "    (ln_f): LayerNorm((768,), eps=1e-05, elementwise_affine=True)\n",
       "  )\n",
       "  (lm_head): Linear(in_features=768, out_features=30002, bias=False)\n",
       ")"
      ]
     },
     "execution_count": 3,
     "metadata": {},
     "output_type": "execute_result"
    }
   ],
   "source": [
    "model.decoder"
   ]
  },
  {
   "cell_type": "code",
   "execution_count": 6,
   "id": "df510d11",
   "metadata": {},
   "outputs": [
    {
     "data": {
      "text/plain": [
       "VisionEncoderDecoderConfig {\n",
       "  \"architectures\": [\n",
       "    \"VisionEncoderDecoderModel\"\n",
       "  ],\n",
       "  \"decoder\": {\n",
       "    \"_name_or_path\": \"gpt2_base\",\n",
       "    \"activation_function\": \"gelu_new\",\n",
       "    \"add_cross_attention\": true,\n",
       "    \"architectures\": [\n",
       "      \"GPT2LMHeadModel\"\n",
       "    ],\n",
       "    \"attn_pdrop\": 0.1,\n",
       "    \"embd_pdrop\": 0.1,\n",
       "    \"initializer_range\": 0.02,\n",
       "    \"is_decoder\": true,\n",
       "    \"layer_norm_epsilon\": 1e-05,\n",
       "    \"model_type\": \"gpt2\",\n",
       "    \"n_embd\": 768,\n",
       "    \"n_head\": 12,\n",
       "    \"n_inner\": null,\n",
       "    \"n_layer\": 6,\n",
       "    \"n_positions\": 516,\n",
       "    \"reorder_and_upcast_attn\": false,\n",
       "    \"resid_pdrop\": 0.1,\n",
       "    \"scale_attn_by_inverse_layer_idx\": false,\n",
       "    \"scale_attn_weights\": true,\n",
       "    \"summary_activation\": null,\n",
       "    \"summary_first_dropout\": 0.1,\n",
       "    \"summary_proj_to_labels\": true,\n",
       "    \"summary_type\": \"cls_index\",\n",
       "    \"summary_use_proj\": true,\n",
       "    \"torch_dtype\": \"float32\",\n",
       "    \"type_vocab_size\": 1,\n",
       "    \"use_cache\": true,\n",
       "    \"vocab_size\": 30002\n",
       "  },\n",
       "  \"decoder_start_token_id\": 0,\n",
       "  \"encoder\": {\n",
       "    \"_name_or_path\": \"encoder\",\n",
       "    \"architectures\": [\n",
       "      \"SwinModel\"\n",
       "    ],\n",
       "    \"attention_probs_dropout_prob\": 0.0,\n",
       "    \"depths\": [\n",
       "      2,\n",
       "      2,\n",
       "      18,\n",
       "      2\n",
       "    ],\n",
       "    \"drop_path_rate\": 0.1,\n",
       "    \"embed_dim\": 96,\n",
       "    \"encoder_stride\": 32,\n",
       "    \"hidden_act\": \"gelu\",\n",
       "    \"hidden_dropout_prob\": 0.0,\n",
       "    \"hidden_size\": 768,\n",
       "    \"image_size\": 224,\n",
       "    \"initializer_range\": 0.02,\n",
       "    \"layer_norm_eps\": 1e-05,\n",
       "    \"mlp_ratio\": 4.0,\n",
       "    \"model_type\": \"swin\",\n",
       "    \"num_channels\": 3,\n",
       "    \"num_heads\": [\n",
       "      3,\n",
       "      6,\n",
       "      12,\n",
       "      24\n",
       "    ],\n",
       "    \"num_layers\": 4,\n",
       "    \"out_features\": [\n",
       "      \"stage4\"\n",
       "    ],\n",
       "    \"out_indices\": [\n",
       "      4\n",
       "    ],\n",
       "    \"patch_size\": 4,\n",
       "    \"path_norm\": true,\n",
       "    \"qkv_bias\": true,\n",
       "    \"stage_names\": [\n",
       "      \"stem\",\n",
       "      \"stage1\",\n",
       "      \"stage2\",\n",
       "      \"stage3\",\n",
       "      \"stage4\"\n",
       "    ],\n",
       "    \"torch_dtype\": \"float32\",\n",
       "    \"use_absolute_embeddings\": false,\n",
       "    \"window_size\": 7\n",
       "  },\n",
       "  \"eos_token_id\": 30000,\n",
       "  \"is_encoder_decoder\": true,\n",
       "  \"max_length\": 512,\n",
       "  \"model_type\": \"vision-encoder-decoder\",\n",
       "  \"pad_token_id\": 1,\n",
       "  \"tie_word_embeddings\": false,\n",
       "  \"torch_dtype\": \"float32\",\n",
       "  \"transformers_version\": \"4.53.0\",\n",
       "  \"vocab_size\": 30002\n",
       "}"
      ]
     },
     "execution_count": 6,
     "metadata": {},
     "output_type": "execute_result"
    }
   ],
   "source": [
    "model.config"
   ]
  },
  {
   "cell_type": "code",
   "execution_count": 9,
   "id": "7e0638d8",
   "metadata": {},
   "outputs": [
    {
     "data": {
      "text/plain": [
       "275"
      ]
     },
     "execution_count": 9,
     "metadata": {},
     "output_type": "execute_result"
    }
   ],
   "source": [
    "sample_text = r\"\\begin{aligned}S_X(f)&=\\lim_{T\\to \\infty}\\frac{1}{T}\\mathbb{E}[|X_T(f)|^2]\\\\&=\\lim_{T\\to \\infty}\\frac{1}{T}\\mathbb{E}[\\int_{-T/2}^{T/2}x(t_1)e^{-j2\\pi ft_1} dt_1\\int_{-T/2}^{T/2}x^*(t_2)e^{-j2\\pi ft_2} dt_2]\\\\&=\\lim_{T\\to\\infty}\\frac{1}{T}\\mathbb{E}\\int_{-T/2}^{T/2}\\int_{-T/2}^{T/2}\\mathbb{E}[x(t_1)x^*(t_2)]e^{-j2\\pi f(t_1-t_2)}dt_1dt_2\\\\&=\\lim_{T\\to\\infty}\\frac{1}{T}\\mathbb{E}\\int_{-T/2}^{T/2}\\int_{-T/2}^{T/2}R_x(t_1-t_2)e^{-j2\\pi f(t_1-t_2)}dt_1dt_2\\\\ \\end{aligned}\"\n",
    "tokens = tokenizer.tokenize(sample_text)\n",
    "len(tokens)"
   ]
  },
  {
   "cell_type": "code",
   "execution_count": 10,
   "id": "7e8b8411",
   "metadata": {},
   "outputs": [],
   "source": [
    "from pathlib import Path\n",
    "\n",
    "\n",
    "img_path = Path(\"./test_img/\")\n",
    "imgs = []\n",
    "for img_name in img_path.iterdir():\n",
    "    if not img_name.is_file() or not img_name.suffix.lower() in [\n",
    "        \".jpg\",\n",
    "        \".jpeg\",\n",
    "        \".png\",\n",
    "    ]:\n",
    "        continue\n",
    "    imgs.append(Image.open(img_name))"
   ]
  },
  {
   "cell_type": "code",
   "execution_count": 12,
   "id": "2fe5bfde",
   "metadata": {},
   "outputs": [
    {
     "data": {
      "image/png": "[encoded data removed]",
      "text/plain": [
       "<PIL.PngImagePlugin.PngImageFile image mode=RGBA size=601x238>"
      ]
     },
     "execution_count": 12,
     "metadata": {},
     "output_type": "execute_result"
    }
   ],
   "source": [
    "imgs[0]"
   ]
  },
  {
   "cell_type": "code",
   "execution_count": 13,
   "id": "83814543",
   "metadata": {},
   "outputs": [],
   "source": [
    "feature_extractor.do_convert_rgb = True"
   ]
  },
  {
   "cell_type": "code",
   "execution_count": 14,
   "id": "c1149968",
   "metadata": {},
   "outputs": [],
   "source": [
    "tensor = feature_extractor(imgs[0], return_tensors=\"pt\").pixel_values"
   ]
  },
  {
   "cell_type": "code",
   "execution_count": 15,
   "id": "0ba9e7de",
   "metadata": {},
   "outputs": [
    {
     "data": {
      "text/plain": [
       "torch.Size([1, 3, 448, 448])"
      ]
     },
     "execution_count": 15,
     "metadata": {},
     "output_type": "execute_result"
    }
   ],
   "source": [
    "tensor.shape"
   ]
  },
  {
   "cell_type": "code",
   "execution_count": 46,
   "id": "2aa18cd4",
   "metadata": {},
   "outputs": [],
   "source": [
    "from transformers.generation.utils import GenerationConfig"
   ]
  },
  {
   "cell_type": "code",
   "execution_count": 51,
   "id": "d2a3dc69",
   "metadata": {},
   "outputs": [
    {
     "name": "stderr",
     "output_type": "stream",
     "text": [
      "Generate config GenerationConfig {\n",
      "  \"decoder_start_token_id\": 0,\n",
      "  \"eos_token_id\": 30000,\n",
      "  \"max_length\": 512,\n",
      "  \"pad_token_id\": 1\n",
      "}\n",
      "\n"
     ]
    }
   ],
   "source": [
    "generation_config = GenerationConfig.from_model_config(model.config)"
   ]
  },
  {
   "cell_type": "code",
   "execution_count": 53,
   "id": "0760ad62",
   "metadata": {},
   "outputs": [],
   "source": [
    "generation_config.num_beams = 5"
   ]
  },
  {
   "cell_type": "code",
   "execution_count": 55,
   "id": "635e86a4",
   "metadata": {},
   "outputs": [
    {
     "ename": "NotImplementedError",
     "evalue": "Make sure that a `_reorder_cache` function is correctly implemented in transformers.models.gpt2.modeling_gpt2 to enable beam search for <class 'transformers.models.gpt2.modeling_gpt2.GPT2LMHeadModel'>",
     "output_type": "error",
     "traceback": [
      "\u001b[0;31m---------------------------------------------------------------------------\u001b[0m",
      "\u001b[0;31mNotImplementedError\u001b[0m                       Traceback (most recent call last)",
      "Cell \u001b[0;32mIn[55], line 1\u001b[0m\n\u001b[0;32m----> 1\u001b[0m output \u001b[38;5;241m=\u001b[39m \u001b[43mmodel\u001b[49m\u001b[38;5;241;43m.\u001b[39;49m\u001b[43mgenerate\u001b[49m\u001b[43m(\u001b[49m\u001b[43mtensor\u001b[49m\u001b[43m,\u001b[49m\u001b[43m \u001b[49m\u001b[43mgeneration_config\u001b[49m\u001b[38;5;241;43m=\u001b[39;49m\u001b[43mgeneration_config\u001b[49m\u001b[43m)\u001b[49m[\u001b[38;5;241m0\u001b[39m]\n",
      "File \u001b[0;32m~/micromamba/envs/ocr/lib/python3.11/site-packages/torch/utils/_contextlib.py:116\u001b[0m, in \u001b[0;36mcontext_decorator.<locals>.decorate_context\u001b[0;34m(*args, **kwargs)\u001b[0m\n\u001b[1;32m    113\u001b[0m \u001b[38;5;129m@functools\u001b[39m\u001b[38;5;241m.\u001b[39mwraps(func)\n\u001b[1;32m    114\u001b[0m \u001b[38;5;28;01mdef\u001b[39;00m \u001b[38;5;21mdecorate_context\u001b[39m(\u001b[38;5;241m*\u001b[39margs, \u001b[38;5;241m*\u001b[39m\u001b[38;5;241m*\u001b[39mkwargs):\n\u001b[1;32m    115\u001b[0m     \u001b[38;5;28;01mwith\u001b[39;00m ctx_factory():\n\u001b[0;32m--> 116\u001b[0m         \u001b[38;5;28;01mreturn\u001b[39;00m \u001b[43mfunc\u001b[49m\u001b[43m(\u001b[49m\u001b[38;5;241;43m*\u001b[39;49m\u001b[43margs\u001b[49m\u001b[43m,\u001b[49m\u001b[43m \u001b[49m\u001b[38;5;241;43m*\u001b[39;49m\u001b[38;5;241;43m*\u001b[39;49m\u001b[43mkwargs\u001b[49m\u001b[43m)\u001b[49m\n",
      "File \u001b[0;32m~/micromamba/envs/ocr/lib/python3.11/site-packages/transformers/generation/utils.py:2642\u001b[0m, in \u001b[0;36mGenerationMixin.generate\u001b[0;34m(self, inputs, generation_config, logits_processor, stopping_criteria, prefix_allowed_tokens_fn, synced_gpus, assistant_model, streamer, negative_prompt_ids, negative_prompt_attention_mask, use_model_defaults, custom_generate, **kwargs)\u001b[0m\n\u001b[1;32m   2635\u001b[0m     input_ids, model_kwargs \u001b[38;5;241m=\u001b[39m \u001b[38;5;28mself\u001b[39m\u001b[38;5;241m.\u001b[39m_expand_inputs_for_generation(\n\u001b[1;32m   2636\u001b[0m         input_ids\u001b[38;5;241m=\u001b[39minput_ids,\n\u001b[1;32m   2637\u001b[0m         expand_size\u001b[38;5;241m=\u001b[39mgeneration_config\u001b[38;5;241m.\u001b[39mnum_beams,\n\u001b[1;32m   2638\u001b[0m         is_encoder_decoder\u001b[38;5;241m=\u001b[39m\u001b[38;5;28mself\u001b[39m\u001b[38;5;241m.\u001b[39mconfig\u001b[38;5;241m.\u001b[39mis_encoder_decoder,\n\u001b[1;32m   2639\u001b[0m         \u001b[38;5;241m*\u001b[39m\u001b[38;5;241m*\u001b[39mmodel_kwargs,\n\u001b[1;32m   2640\u001b[0m     )\n\u001b[1;32m   2641\u001b[0m     \u001b[38;5;66;03m# 12. run beam sample\u001b[39;00m\n\u001b[0;32m-> 2642\u001b[0m     result \u001b[38;5;241m=\u001b[39m \u001b[38;5;28;43mself\u001b[39;49m\u001b[38;5;241;43m.\u001b[39;49m\u001b[43m_beam_search\u001b[49m\u001b[43m(\u001b[49m\n\u001b[1;32m   2643\u001b[0m \u001b[43m        \u001b[49m\u001b[43minput_ids\u001b[49m\u001b[43m,\u001b[49m\n\u001b[1;32m   2644\u001b[0m \u001b[43m        \u001b[49m\u001b[43mlogits_processor\u001b[49m\u001b[38;5;241;43m=\u001b[39;49m\u001b[43mprepared_logits_processor\u001b[49m\u001b[43m,\u001b[49m\n\u001b[1;32m   2645\u001b[0m \u001b[43m        \u001b[49m\u001b[43mstopping_criteria\u001b[49m\u001b[38;5;241;43m=\u001b[39;49m\u001b[43mprepared_stopping_criteria\u001b[49m\u001b[43m,\u001b[49m\n\u001b[1;32m   2646\u001b[0m \u001b[43m        \u001b[49m\u001b[43mgeneration_config\u001b[49m\u001b[38;5;241;43m=\u001b[39;49m\u001b[43mgeneration_config\u001b[49m\u001b[43m,\u001b[49m\n\u001b[1;32m   2647\u001b[0m \u001b[43m        \u001b[49m\u001b[43msynced_gpus\u001b[49m\u001b[38;5;241;43m=\u001b[39;49m\u001b[43msynced_gpus\u001b[49m\u001b[43m,\u001b[49m\n\u001b[1;32m   2648\u001b[0m \u001b[43m        \u001b[49m\u001b[38;5;241;43m*\u001b[39;49m\u001b[38;5;241;43m*\u001b[39;49m\u001b[43mmodel_kwargs\u001b[49m\u001b[43m,\u001b[49m\n\u001b[1;32m   2649\u001b[0m \u001b[43m    \u001b[49m\u001b[43m)\u001b[49m\n\u001b[1;32m   2651\u001b[0m \u001b[38;5;28;01melif\u001b[39;00m generation_mode \u001b[38;5;241m==\u001b[39m GenerationMode\u001b[38;5;241m.\u001b[39mGROUP_BEAM_SEARCH:\n\u001b[1;32m   2652\u001b[0m     logger\u001b[38;5;241m.\u001b[39mwarning_once(\n\u001b[1;32m   2653\u001b[0m         \u001b[38;5;124m\"\u001b[39m\u001b[38;5;124mGroup Beam Search is scheduled to be moved to a `custom_generate` repository in v4.55.0. \u001b[39m\u001b[38;5;124m\"\u001b[39m\n\u001b[1;32m   2654\u001b[0m         \u001b[38;5;124m\"\u001b[39m\u001b[38;5;124mTo prevent loss of backward compatibility, add `trust_remote_code=True` to your `generate` call.\u001b[39m\u001b[38;5;124m\"\u001b[39m\n\u001b[1;32m   2655\u001b[0m     )\n",
      "File \u001b[0;32m~/micromamba/envs/ocr/lib/python3.11/site-packages/transformers/generation/utils.py:4183\u001b[0m, in \u001b[0;36mGenerationMixin._beam_search\u001b[0;34m(self, input_ids, logits_processor, stopping_criteria, generation_config, synced_gpus, **model_kwargs)\u001b[0m\n\u001b[1;32m   4178\u001b[0m \u001b[38;5;66;03m# g. Prepare remaining data for the next iteration, including computing the stopping condition for\u001b[39;00m\n\u001b[1;32m   4179\u001b[0m \u001b[38;5;66;03m# beam search as a whole (as opposed to individual beams, i.e. `stopping_criteria`)\u001b[39;00m\n\u001b[1;32m   4180\u001b[0m \n\u001b[1;32m   4181\u001b[0m \u001b[38;5;66;03m# pluck the cache from the beam indices that will be used in the next iteration\u001b[39;00m\n\u001b[1;32m   4182\u001b[0m \u001b[38;5;28;01mif\u001b[39;00m model_kwargs\u001b[38;5;241m.\u001b[39mget(\u001b[38;5;124m\"\u001b[39m\u001b[38;5;124mpast_key_values\u001b[39m\u001b[38;5;124m\"\u001b[39m, \u001b[38;5;28;01mNone\u001b[39;00m) \u001b[38;5;129;01mis\u001b[39;00m \u001b[38;5;129;01mnot\u001b[39;00m \u001b[38;5;28;01mNone\u001b[39;00m:\n\u001b[0;32m-> 4183\u001b[0m     model_kwargs[\u001b[38;5;124m\"\u001b[39m\u001b[38;5;124mpast_key_values\u001b[39m\u001b[38;5;124m\"\u001b[39m] \u001b[38;5;241m=\u001b[39m \u001b[38;5;28;43mself\u001b[39;49m\u001b[38;5;241;43m.\u001b[39;49m\u001b[43m_temporary_reorder_cache\u001b[49m\u001b[43m(\u001b[49m\n\u001b[1;32m   4184\u001b[0m \u001b[43m        \u001b[49m\u001b[43mpast_key_values\u001b[49m\u001b[38;5;241;43m=\u001b[39;49m\u001b[43mmodel_kwargs\u001b[49m\u001b[43m[\u001b[49m\u001b[38;5;124;43m\"\u001b[39;49m\u001b[38;5;124;43mpast_key_values\u001b[39;49m\u001b[38;5;124;43m\"\u001b[39;49m\u001b[43m]\u001b[49m\u001b[43m,\u001b[49m\n\u001b[1;32m   4185\u001b[0m \u001b[43m        \u001b[49m\u001b[43mbeam_idx\u001b[49m\u001b[38;5;241;43m=\u001b[39;49m\u001b[38;5;28;43mself\u001b[39;49m\u001b[38;5;241;43m.\u001b[39;49m\u001b[43m_flatten_beam_dim\u001b[49m\u001b[43m(\u001b[49m\u001b[43mrunning_beam_indices\u001b[49m\u001b[43m[\u001b[49m\u001b[38;5;241;43m.\u001b[39;49m\u001b[38;5;241;43m.\u001b[39;49m\u001b[38;5;241;43m.\u001b[39;49m\u001b[43m,\u001b[49m\u001b[43m \u001b[49m\u001b[43mcur_len\u001b[49m\u001b[43m \u001b[49m\u001b[38;5;241;43m-\u001b[39;49m\u001b[43m \u001b[49m\u001b[43mdecoder_prompt_len\u001b[49m\u001b[43m]\u001b[49m\u001b[43m)\u001b[49m\u001b[43m,\u001b[49m\n\u001b[1;32m   4186\u001b[0m \u001b[43m    \u001b[49m\u001b[43m)\u001b[49m\n\u001b[1;32m   4188\u001b[0m cur_len \u001b[38;5;241m=\u001b[39m cur_len \u001b[38;5;241m+\u001b[39m \u001b[38;5;241m1\u001b[39m\n\u001b[1;32m   4189\u001b[0m this_peer_finished \u001b[38;5;241m=\u001b[39m \u001b[38;5;129;01mnot\u001b[39;00m \u001b[38;5;28mself\u001b[39m\u001b[38;5;241m.\u001b[39m_beam_search_has_unfinished_sequences(\n\u001b[1;32m   4190\u001b[0m     running_beam_scores,\n\u001b[1;32m   4191\u001b[0m     beam_scores,\n\u001b[0;32m   (...)\u001b[0m\n\u001b[1;32m   4198\u001b[0m     length_penalty,\n\u001b[1;32m   4199\u001b[0m )\n",
      "File \u001b[0;32m~/micromamba/envs/ocr/lib/python3.11/site-packages/transformers/generation/utils.py:3709\u001b[0m, in \u001b[0;36mGenerationMixin._temporary_reorder_cache\u001b[0;34m(self, past_key_values, beam_idx)\u001b[0m\n\u001b[1;32m   3707\u001b[0m \u001b[38;5;66;03m# Exception 1: code path for models using the legacy cache format\u001b[39;00m\n\u001b[1;32m   3708\u001b[0m \u001b[38;5;28;01mif\u001b[39;00m \u001b[38;5;28misinstance\u001b[39m(past_key_values, (\u001b[38;5;28mtuple\u001b[39m, \u001b[38;5;28mlist\u001b[39m)):\n\u001b[0;32m-> 3709\u001b[0m     past_key_values \u001b[38;5;241m=\u001b[39m \u001b[38;5;28;43mself\u001b[39;49m\u001b[38;5;241;43m.\u001b[39;49m\u001b[43m_reorder_cache\u001b[49m\u001b[43m(\u001b[49m\u001b[43mpast_key_values\u001b[49m\u001b[43m,\u001b[49m\u001b[43m \u001b[49m\u001b[43mbeam_idx\u001b[49m\u001b[43m)\u001b[49m\n\u001b[1;32m   3710\u001b[0m \u001b[38;5;66;03m# Exception 2: models with different cache formats. These are limited to `DynamicCache` until their\u001b[39;00m\n\u001b[1;32m   3711\u001b[0m \u001b[38;5;66;03m# cache format is standardized, to avoid adding complexity to the codebase.\u001b[39;00m\n\u001b[1;32m   3712\u001b[0m \u001b[38;5;28;01melif\u001b[39;00m \u001b[38;5;124m\"\u001b[39m\u001b[38;5;124mgptbigcode\u001b[39m\u001b[38;5;124m\"\u001b[39m \u001b[38;5;129;01min\u001b[39;00m model_class:\n",
      "File \u001b[0;32m~/micromamba/envs/ocr/lib/python3.11/site-packages/transformers/models/vision_encoder_decoder/modeling_vision_encoder_decoder.py:602\u001b[0m, in \u001b[0;36mVisionEncoderDecoderModel._reorder_cache\u001b[0;34m(self, past_key_values, beam_idx)\u001b[0m\n\u001b[1;32m    600\u001b[0m \u001b[38;5;28;01mdef\u001b[39;00m \u001b[38;5;21m_reorder_cache\u001b[39m(\u001b[38;5;28mself\u001b[39m, past_key_values, beam_idx):\n\u001b[1;32m    601\u001b[0m     \u001b[38;5;66;03m# apply decoder cache reordering here\u001b[39;00m\n\u001b[0;32m--> 602\u001b[0m     \u001b[38;5;28;01mreturn\u001b[39;00m \u001b[38;5;28;43mself\u001b[39;49m\u001b[38;5;241;43m.\u001b[39;49m\u001b[43mdecoder\u001b[49m\u001b[38;5;241;43m.\u001b[39;49m\u001b[43m_reorder_cache\u001b[49m\u001b[43m(\u001b[49m\u001b[43mpast_key_values\u001b[49m\u001b[43m,\u001b[49m\u001b[43m \u001b[49m\u001b[43mbeam_idx\u001b[49m\u001b[43m)\u001b[49m\n",
      "File \u001b[0;32m~/micromamba/envs/ocr/lib/python3.11/site-packages/transformers/generation/utils.py:1013\u001b[0m, in \u001b[0;36mGenerationMixin._reorder_cache\u001b[0;34m(self, past_key_values, beam_idx)\u001b[0m\n\u001b[1;32m   1012\u001b[0m \u001b[38;5;28;01mdef\u001b[39;00m \u001b[38;5;21m_reorder_cache\u001b[39m(\u001b[38;5;28mself\u001b[39m, past_key_values, beam_idx):\n\u001b[0;32m-> 1013\u001b[0m     \u001b[38;5;28;01mraise\u001b[39;00m \u001b[38;5;167;01mNotImplementedError\u001b[39;00m(\n\u001b[1;32m   1014\u001b[0m         \u001b[38;5;124mf\u001b[39m\u001b[38;5;124m\"\u001b[39m\u001b[38;5;124mMake sure that a `_reorder_cache` function is correctly implemented in \u001b[39m\u001b[38;5;132;01m{\u001b[39;00m\u001b[38;5;28mself\u001b[39m\u001b[38;5;241m.\u001b[39m\u001b[38;5;18m__class__\u001b[39m\u001b[38;5;241m.\u001b[39m\u001b[38;5;18m__module__\u001b[39m\u001b[38;5;132;01m}\u001b[39;00m\u001b[38;5;124m to\u001b[39m\u001b[38;5;124m\"\u001b[39m\n\u001b[1;32m   1015\u001b[0m         \u001b[38;5;124mf\u001b[39m\u001b[38;5;124m\"\u001b[39m\u001b[38;5;124m enable beam search for \u001b[39m\u001b[38;5;132;01m{\u001b[39;00m\u001b[38;5;28mself\u001b[39m\u001b[38;5;241m.\u001b[39m\u001b[38;5;18m__class__\u001b[39m\u001b[38;5;132;01m}\u001b[39;00m\u001b[38;5;124m\"\u001b[39m\n\u001b[1;32m   1016\u001b[0m     )\n",
      "\u001b[0;31mNotImplementedError\u001b[0m: Make sure that a `_reorder_cache` function is correctly implemented in transformers.models.gpt2.modeling_gpt2 to enable beam search for <class 'transformers.models.gpt2.modeling_gpt2.GPT2LMHeadModel'>"
     ]
    }
   ],
   "source": [
    "output = model.generate(tensor, generation_config=generation_config)[0]"
   ]
  },
  {
   "cell_type": "code",
   "execution_count": 38,
   "id": "22f756f1",
   "metadata": {},
   "outputs": [],
   "source": [
    "res = tokenizer.decode(output, skip_special_tokens=True)"
   ]
  },
  {
   "cell_type": "code",
   "execution_count": 39,
   "id": "42311fb1",
   "metadata": {},
   "outputs": [],
   "source": [
    "res = res.replace(\"\\\\[\", \"\\\\begin{align*}\").replace(\"\\\\]\", \"\\\\end{align*}\")"
   ]
  },
  {
   "cell_type": "code",
   "execution_count": 41,
   "id": "9eef84a5",
   "metadata": {},
   "outputs": [
    {
     "name": "stdout",
     "output_type": "stream",
     "text": [
      "\\begin{align*}\n",
      "S_X(f) &= \\lim_{T \\to \\infty} \\frac{1}{T} E[ |X_T(f)|^2] \\\\\n",
      "&= \\lim_{T \\to \\infty} \\frac{1}{T} E \\left[ \\int_{-T/2}^{T/2} X(t_1) e^{-j 2 \\pi f t_1} \\, dt_1 \\int_{-T/2}^{T/2} X^*(t_2) e^{j 2 \\pi f t_2} \\, dt_2 \\right] \\\\\n",
      "&= \\lim_{T \\to \\infty} \\frac{1}{T} \\int_{-T/2}^{T/2} \\int_{-T/2}^{T/2} E[X(t_1) X^*(t_2)] e^{-j 2 \\pi f(t_1 - t_2)} \\, dt_2 \\, dt_1 \\\\\n",
      "&= \\lim_{T \\to \\infty} \\frac{1}{T} \\int_{-T/2}^{T/2} \\int_{-T/2}^{T/2} R_X(t_1 -\n"
     ]
    }
   ],
   "source": [
    "print(res)"
   ]
  },
  {
   "cell_type": "code",
   "execution_count": 29,
   "id": "fba2dc55",
   "metadata": {},
   "outputs": [
    {
     "data": {
      "text/plain": [
       "torch.Size([1, 257])"
      ]
     },
     "execution_count": 29,
     "metadata": {},
     "output_type": "execute_result"
    }
   ],
   "source": [
    "output.shape"
   ]
  },
  {
   "cell_type": "code",
   "execution_count": 28,
   "id": "dd0da535",
   "metadata": {},
   "outputs": [
    {
     "data": {
      "text/plain": [
       "'<s><s>\\\\[\\nS_X(f) &= \\\\lim_{T \\\\to \\\\infty} \\\\frac{1}{T} E[ |X_T(f)|^2] \\\\\\\\\\n&= \\\\lim_{T \\\\to \\\\infty} \\\\frac{1}{T} E \\\\left[ \\\\int_{-T/2}^{T/2} X(t_1) e^{-j 2 \\\\pi f t_1} \\\\, dt_1 \\\\int_{-T/2}^{T/2} X^*(t_2) e^{j 2 \\\\pi f t_2} \\\\, dt_2 \\\\right] \\\\\\\\\\n&= \\\\lim_{T \\\\to \\\\infty} \\\\frac{1}{T} \\\\int_{-T/2}^{T/2} \\\\int_{-T/2}^{T/2} E[X(t_1) X^*(t_2)] e^{-j 2 \\\\pi f(t_1 - t_2)} \\\\, dt_2 \\\\, dt_1 \\\\\\\\\\n&= \\\\lim_{T \\\\to \\\\infty} \\\\frac{1}{T} \\\\int_{-T/2}^{T/2} \\\\int_{-T/2}^{T/2} R_X(t_1 -</s>'"
      ]
     },
     "execution_count": 28,
     "metadata": {},
     "output_type": "execute_result"
    }
   ],
   "source": [
    "res"
   ]
  },
  {
   "cell_type": "code",
   "execution_count": 42,
   "id": "47829b47",
   "metadata": {},
   "outputs": [],
   "source": [
    "tokens = tokenizer.batch_decode(output, skip_special_tokens=True)"
   ]
  },
  {
   "cell_type": "code",
   "execution_count": 46,
   "id": "b8d54be5",
   "metadata": {},
   "outputs": [
    {
     "data": {
      "text/plain": [
       "tensor([    0,     0,    64,   575,    95,  4086,  1533,   358,    80,  5068,\n",
       "           97,   203,    64,   809,   203,    64,   570,    95, 12277,  2363,\n",
       "           97,   290,   262,   570,    95, 17676,    97,   290,   262,   570,\n",
       "           95,    51, 10674,    97,   290,   262,   570,    95,    47,  1920,\n",
       "           97,   290,   262,   570,    95, 17658,    97,   290,   262,   570,\n",
       "           95,    55,    84,   446,    97,   290,   262,   570,    95,    49,\n",
       "         4063,    97,   290,   262,   570,    95,    56, 23213,    97,   583,\n",
       "          203,    64,   809,   203,    38,    48,  6927,    17,    22,  2010,\n",
       "         1410,    65,   290, 10517,    18,    25,   290,  6983,    18,    21,\n",
       "          290,  6983,    18,    28,   290,  1613,    18,    20,   290,  6681,\n",
       "           18,    22,   290,  1452,    18,    28,   290, 10016,    18,    24,\n",
       "          583,   203,    48,  1543,    58,    37,    17,    27,    38,  2010,\n",
       "         1559,    65,   290,  9803,    18,    20,   290,  7705,    18,    21,\n",
       "          290,  6681,    18,    23,   290,  5838,    18,    29,   290,  9188,\n",
       "           18,    22,   290,  6983,    18,    25,   290, 10020,    18,    28,\n",
       "          583,   203,    49,  5468,    43,  8824,    17,    24,  2010,    25,\n",
       "           65,   290, 11396,    18,    29,   290,  6681,    18,    21,   290,\n",
       "         2668,    18,    24,   290, 10016,    18,    21,   290, 10016,    18,\n",
       "           22,   290,  1203,    18,    28,   290,  8757,    18,    24,   583,\n",
       "          203,    51,  3063,  2010,  1539,    65,   290, 10517,    18,    23,\n",
       "          290,  7705,    18,    28,   290,  7404,    18,    22,   290,  7473,\n",
       "           18,    28,   290,  8757,    18,    24,   290,  1203,    18,    28,\n",
       "          290,  8757,    18,    27,   583,   203,    51,  9321,    42,   333,\n",
       "         4902,    83,  2010,    21,    65,   290,  9803,    18,    27,   290,\n",
       "         6681,    18,    27,   290,  6681,    18,    24,   290,  7473,    18,\n",
       "           21,   290,  9188,    18,    20,   290,  1613,    18,    27,   290,\n",
       "         8757,    18,    28,   583,   203,    48,  1543,    58,    37,    17,\n",
       "           21,    38,  2010,  1559,    65,   290, 14179,    18,    22,   290,\n",
       "        10016,    18,    27,   290, 10644,    18,    25,   290, 11396,    18,\n",
       "           23,   290, 11396,    18,    26,   290,  1613,    18,    27,   290,\n",
       "        10809,    18,    29,   583,   203,    48,  1543,    58,    37,    21,\n",
       "           18,    25,    17,    27,    38,  2010,  1757,    65,   290,   356,\n",
       "          290,   356,   290,   356,   290,   356,   290,   356,   290,  7696,\n",
       "           18,    25,   583,   203,    64,   809,   203,    58,  1515,    17,\n",
       "           70,  2904,   496,    90, 13084,    82,    27,    38,    13,   496,\n",
       "         2235,  4714,    13,   290, 13718,    18,    27,   290, 10016,    18,\n",
       "           20,   290, 10020,    18,    26,   290,  8757,    18,    21,   290,\n",
       "        11396,    18,    26,   290,  1613,    18,    27,   290, 10809,    18,\n",
       "           29,   583,   203,    58,  1515,    17,    70,  2904,   496,    85,\n",
       "           91,   296,    27,    38,    13,   496,  2317,    79,    13,   290,\n",
       "        13718,    18,    29,   290,   262,  4454,    95,  1729,    18,    21,\n",
       "           97,   290, 10016,    18,    24,   290,  9188,    18,    27,   290,\n",
       "          262,  4454,    95,  2588,    18,    23,    97,   290,  1613,    18,\n",
       "           27,   290,   262,  4454,    95,  2313,    18,    22,    97,   583,\n",
       "          203,    56,  2054,  1203,    30,  6509,  8756,   638,  8350,  5013,\n",
       "          588,   692,    49,    58,   921,    18,   777,   275,   769,   285,\n",
       "         1307,  1418,  9971,    30,  8317,    30,  8317,  6855,   346,    30,\n",
       "        22976,    30, 22976,  5735,    16,  9015,    30,   806, 24490,  9604,\n",
       "           16,   602,    84,   446,   602,  2128,   625, 16829,    18,   203,\n",
       "          203, 30000])"
      ]
     },
     "execution_count": 46,
     "metadata": {},
     "output_type": "execute_result"
    }
   ],
   "source": [
    "output[1]"
   ]
  },
  {
   "cell_type": "code",
   "execution_count": 56,
   "id": "b91dd0aa",
   "metadata": {},
   "outputs": [
    {
     "data": {
      "text/plain": [
       "VisionEncoderDecoderConfig {\n",
       "  \"architectures\": [\n",
       "    \"VisionEncoderDecoderModel\"\n",
       "  ],\n",
       "  \"decoder\": {\n",
       "    \"_name_or_path\": \"gpt2_base\",\n",
       "    \"activation_function\": \"gelu_new\",\n",
       "    \"add_cross_attention\": true,\n",
       "    \"architectures\": [\n",
       "      \"GPT2LMHeadModel\"\n",
       "    ],\n",
       "    \"attn_pdrop\": 0.1,\n",
       "    \"embd_pdrop\": 0.1,\n",
       "    \"initializer_range\": 0.02,\n",
       "    \"is_decoder\": true,\n",
       "    \"layer_norm_epsilon\": 1e-05,\n",
       "    \"model_type\": \"gpt2\",\n",
       "    \"n_embd\": 768,\n",
       "    \"n_head\": 12,\n",
       "    \"n_inner\": null,\n",
       "    \"n_layer\": 6,\n",
       "    \"n_positions\": 516,\n",
       "    \"reorder_and_upcast_attn\": false,\n",
       "    \"resid_pdrop\": 0.1,\n",
       "    \"scale_attn_by_inverse_layer_idx\": false,\n",
       "    \"scale_attn_weights\": true,\n",
       "    \"summary_activation\": null,\n",
       "    \"summary_first_dropout\": 0.1,\n",
       "    \"summary_proj_to_labels\": true,\n",
       "    \"summary_type\": \"cls_index\",\n",
       "    \"summary_use_proj\": true,\n",
       "    \"torch_dtype\": \"float32\",\n",
       "    \"type_vocab_size\": 1,\n",
       "    \"use_cache\": true,\n",
       "    \"vocab_size\": 30002\n",
       "  },\n",
       "  \"decoder_start_token_id\": 0,\n",
       "  \"encoder\": {\n",
       "    \"_name_or_path\": \"encoder\",\n",
       "    \"architectures\": [\n",
       "      \"SwinModel\"\n",
       "    ],\n",
       "    \"attention_probs_dropout_prob\": 0.0,\n",
       "    \"depths\": [\n",
       "      2,\n",
       "      2,\n",
       "      18,\n",
       "      2\n",
       "    ],\n",
       "    \"drop_path_rate\": 0.1,\n",
       "    \"embed_dim\": 96,\n",
       "    \"encoder_stride\": 32,\n",
       "    \"hidden_act\": \"gelu\",\n",
       "    \"hidden_dropout_prob\": 0.0,\n",
       "    \"hidden_size\": 768,\n",
       "    \"image_size\": 224,\n",
       "    \"initializer_range\": 0.02,\n",
       "    \"layer_norm_eps\": 1e-05,\n",
       "    \"mlp_ratio\": 4.0,\n",
       "    \"model_type\": \"swin\",\n",
       "    \"num_channels\": 3,\n",
       "    \"num_heads\": [\n",
       "      3,\n",
       "      6,\n",
       "      12,\n",
       "      24\n",
       "    ],\n",
       "    \"num_layers\": 4,\n",
       "    \"out_features\": [\n",
       "      \"stage4\"\n",
       "    ],\n",
       "    \"out_indices\": [\n",
       "      4\n",
       "    ],\n",
       "    \"patch_size\": 4,\n",
       "    \"path_norm\": true,\n",
       "    \"qkv_bias\": true,\n",
       "    \"stage_names\": [\n",
       "      \"stem\",\n",
       "      \"stage1\",\n",
       "      \"stage2\",\n",
       "      \"stage3\",\n",
       "      \"stage4\"\n",
       "    ],\n",
       "    \"torch_dtype\": \"float32\",\n",
       "    \"use_absolute_embeddings\": false,\n",
       "    \"window_size\": 7\n",
       "  },\n",
       "  \"eos_token_id\": 30000,\n",
       "  \"is_encoder_decoder\": true,\n",
       "  \"max_length\": 512,\n",
       "  \"model_type\": \"vision-encoder-decoder\",\n",
       "  \"pad_token_id\": 1,\n",
       "  \"tie_word_embeddings\": false,\n",
       "  \"torch_dtype\": \"float32\",\n",
       "  \"transformers_version\": \"4.53.0\",\n",
       "  \"vocab_size\": 30002\n",
       "}"
      ]
     },
     "execution_count": 56,
     "metadata": {},
     "output_type": "execute_result"
    }
   ],
   "source": [
    "model.config"
   ]
  },
  {
   "cell_type": "code",
   "execution_count": 45,
   "id": "aca84df0",
   "metadata": {},
   "outputs": [
    {
     "data": {
      "text/plain": [
       "'\\\\begin{tabular}{lcccc}\\n\\\\hline\\n\\\\textbf{Method} & \\\\textbf{Rec} & \\\\textbf{OCR} & \\\\textbf{Know} & \\\\textbf{Gen} & \\\\textbf{Spat} & \\\\textbf{Math} & \\\\textbf{Total} \\\\\\\\\\n\\\\hline\\nBLIP-2 [19] & 27.5 & 11.1 & 11.8 & 7.0 & 16.2 & 5.8 & 22.4 \\\\\\\\\\nLLaVA-7B [25] & 28.0 & 17.1 & 16.3 & 18.9 & 21.2 & 11.5 & 23.8 \\\\\\\\\\nMiniGPT-4 [5] & 29.9 & 16.1 & 20.4 & 22.1 & 22.2 & 3.8 & 24.4 \\\\\\\\\\nOtter [18] & 27.3 & 17.8 & 14.2 & 13.8 & 24.4 & 3.8 & 24.7 \\\\\\\\\\nOpenFlamingo [1] & 28.7 & 16.7 & 16.4 & 13.1 & 21.0 & 7.7 & 24.8 \\\\\\\\\\nLLaVA-1B [25] & 39.2 & 22.7 & 26.5 & 29.3 & 29.6 & 7.7 & 32.9 \\\\\\\\\\nLLaVA1.5-7B [24] & - & - & - & - & - & 30.5 \\\\\\\\\\n\\\\hline\\nVary-base (viconn7B) (6651) & 38.7 & 22.0 & 23.6 & 24.1 & 29.6 & 7.7 & 32.9 \\\\\\\\\\nVary-base (qwen7B) (80k) & 38.9 & \\\\underline{30.1} & 22.4 & 21.7 & \\\\underline{34.3} & 7.7 & \\\\underline{36.2} \\\\\\\\\\nTable 3: Comparison with popular methods on MMVet. The abbreviations represent: Rec: Recognition: Know: Knowledge, Gen: Language generation, Spat Spatial awareness.\\n\\n'"
      ]
     },
     "execution_count": 45,
     "metadata": {},
     "output_type": "execute_result"
    }
   ],
   "source": [
    "tokens[1]"
   ]
  },
  {
   "cell_type": "code",
   "execution_count": 35,
   "id": "b1e48b4f",
   "metadata": {},
   "outputs": [
    {
     "data": {
      "text/plain": [
       "['<s>',\n",
       " '<s>',\n",
       " '\\\\',\n",
       " 'textbf',\n",
       " '{',\n",
       " '12',\n",
       " '34',\n",
       " 'bar',\n",
       " 'j',\n",
       " 'ak',\n",
       " 'se',\n",
       " 'w',\n",
       " 'l',\n",
       " 'w',\n",
       " 'm',\n",
       " 'z',\n",
       " 'ov',\n",
       " 's',\n",
       " 'el',\n",
       " 'w',\n",
       " 'ic',\n",
       " '}',\n",
       " 'lim',\n",
       " '(',\n",
       " 'z',\n",
       " ')',\n",
       " '</s>']"
      ]
     },
     "execution_count": 35,
     "metadata": {},
     "output_type": "execute_result"
    }
   ],
   "source": [
    "tokenizer.convert_ids_to_tokens(output[0].tolist())"
   ]
  },
  {
   "cell_type": "code",
   "execution_count": 25,
   "id": "c2bf81e8",
   "metadata": {},
   "outputs": [
    {
     "data": {
      "text/plain": [
       "['\\\\textbf{1234barjaksewlwmzovselwic}lim(z)']"
      ]
     },
     "execution_count": 25,
     "metadata": {},
     "output_type": "execute_result"
    }
   ],
   "source": [
    "tokens"
   ]
  },
  {
   "cell_type": "code",
   "execution_count": 44,
   "id": "9683d9a5",
   "metadata": {},
   "outputs": [
    {
     "data": {
      "text/plain": [
       "VisionEncoderDecoderConfig {\n",
       "  \"architectures\": [\n",
       "    \"VisionEncoderDecoderModel\"\n",
       "  ],\n",
       "  \"decoder\": {\n",
       "    \"_name_or_path\": \"gpt2_base\",\n",
       "    \"activation_function\": \"gelu_new\",\n",
       "    \"add_cross_attention\": true,\n",
       "    \"architectures\": [\n",
       "      \"GPT2LMHeadModel\"\n",
       "    ],\n",
       "    \"attn_pdrop\": 0.1,\n",
       "    \"embd_pdrop\": 0.1,\n",
       "    \"initializer_range\": 0.02,\n",
       "    \"is_decoder\": true,\n",
       "    \"layer_norm_epsilon\": 1e-05,\n",
       "    \"model_type\": \"gpt2\",\n",
       "    \"n_embd\": 768,\n",
       "    \"n_head\": 12,\n",
       "    \"n_inner\": null,\n",
       "    \"n_layer\": 6,\n",
       "    \"n_positions\": 516,\n",
       "    \"reorder_and_upcast_attn\": false,\n",
       "    \"resid_pdrop\": 0.1,\n",
       "    \"scale_attn_by_inverse_layer_idx\": false,\n",
       "    \"scale_attn_weights\": true,\n",
       "    \"summary_activation\": null,\n",
       "    \"summary_first_dropout\": 0.1,\n",
       "    \"summary_proj_to_labels\": true,\n",
       "    \"summary_type\": \"cls_index\",\n",
       "    \"summary_use_proj\": true,\n",
       "    \"torch_dtype\": \"float32\",\n",
       "    \"type_vocab_size\": 1,\n",
       "    \"use_cache\": true,\n",
       "    \"vocab_size\": 30002\n",
       "  },\n",
       "  \"decoder_start_token_id\": 0,\n",
       "  \"encoder\": {\n",
       "    \"_name_or_path\": \"encoder\",\n",
       "    \"architectures\": [\n",
       "      \"SwinModel\"\n",
       "    ],\n",
       "    \"attention_probs_dropout_prob\": 0.0,\n",
       "    \"depths\": [\n",
       "      2,\n",
       "      2,\n",
       "      18,\n",
       "      2\n",
       "    ],\n",
       "    \"drop_path_rate\": 0.1,\n",
       "    \"embed_dim\": 96,\n",
       "    \"encoder_stride\": 32,\n",
       "    \"hidden_act\": \"gelu\",\n",
       "    \"hidden_dropout_prob\": 0.0,\n",
       "    \"hidden_size\": 768,\n",
       "    \"image_size\": 224,\n",
       "    \"initializer_range\": 0.02,\n",
       "    \"layer_norm_eps\": 1e-05,\n",
       "    \"mlp_ratio\": 4.0,\n",
       "    \"model_type\": \"swin\",\n",
       "    \"num_channels\": 3,\n",
       "    \"num_heads\": [\n",
       "      3,\n",
       "      6,\n",
       "      12,\n",
       "      24\n",
       "    ],\n",
       "    \"num_layers\": 4,\n",
       "    \"out_features\": [\n",
       "      \"stage4\"\n",
       "    ],\n",
       "    \"out_indices\": [\n",
       "      4\n",
       "    ],\n",
       "    \"patch_size\": 4,\n",
       "    \"path_norm\": true,\n",
       "    \"qkv_bias\": true,\n",
       "    \"stage_names\": [\n",
       "      \"stem\",\n",
       "      \"stage1\",\n",
       "      \"stage2\",\n",
       "      \"stage3\",\n",
       "      \"stage4\"\n",
       "    ],\n",
       "    \"torch_dtype\": \"float32\",\n",
       "    \"use_absolute_embeddings\": false,\n",
       "    \"window_size\": 7\n",
       "  },\n",
       "  \"eos_token_id\": 30000,\n",
       "  \"is_encoder_decoder\": true,\n",
       "  \"max_length\": 512,\n",
       "  \"model_type\": \"vision-encoder-decoder\",\n",
       "  \"pad_token_id\": 1,\n",
       "  \"tie_word_embeddings\": false,\n",
       "  \"torch_dtype\": \"float32\",\n",
       "  \"transformers_version\": \"4.53.0\",\n",
       "  \"vocab_size\": 30002\n",
       "}"
      ]
     },
     "execution_count": 44,
     "metadata": {},
     "output_type": "execute_result"
    }
   ],
   "source": [
    "model.generate()"
   ]
  },
  {
   "cell_type": "code",
   "execution_count": null,
   "id": "248ab841",
   "metadata": {},
   "outputs": [
    {
     "name": "stderr",
     "output_type": "stream",
     "text": [
      "Generate config GenerationConfig {\n",
      "  \"decoder_start_token_id\": 0,\n",
      "  \"eos_token_id\": 30000,\n",
      "  \"max_length\": 512,\n",
      "  \"pad_token_id\": 1\n",
      "}\n",
      "\n"
     ]
    }
   ],
   "source": [
    "a = "
   ]
  }
 ],
 "metadata": {
  "kernelspec": {
   "display_name": "ocr",
   "language": "python",
   "name": "python3"
  },
  "language_info": {
   "codemirror_mode": {
    "name": "ipython",
    "version": 3
   },
   "file_extension": ".py",
   "mimetype": "text/x-python",
   "name": "python",
   "nbconvert_exporter": "python",
   "pygments_lexer": "ipython3",
   "version": "3.11.6"
  }
 },
 "nbformat": 4,
 "nbformat_minor": 5
}
